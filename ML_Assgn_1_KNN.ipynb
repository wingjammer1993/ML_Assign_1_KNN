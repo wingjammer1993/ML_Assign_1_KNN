{
 "cells": [
  {
   "cell_type": "code",
   "execution_count": 7,
   "metadata": {},
   "outputs": [],
   "source": [
    "import numpy as np\n",
    "import matplotlib.pylab as plt\n",
    "%matplotlib inline"
   ]
  },
  {
   "cell_type": "code",
   "execution_count": 8,
   "metadata": {},
   "outputs": [],
   "source": [
    "class Numbers:\n",
    "    \"\"\"\n",
    "    Class to store MNIST data\n",
    "    \"\"\"\n",
    "    def __init__(self, location):\n",
    "\n",
    "        import pickle, gzip\n",
    "\n",
    "        # load data from file \n",
    "        f = gzip.open(location, 'rb')\n",
    "        train_set, valid_set, test_set = pickle.load(f)\n",
    "        f.close()\n",
    "\n",
    "        # store for use later  \n",
    "        self.train_x, self.train_y = train_set\n",
    "        self.test_x, self.test_y = valid_set"
   ]
  },
  {
   "cell_type": "code",
   "execution_count": 9,
   "metadata": {},
   "outputs": [],
   "source": [
    "data = Numbers(\"mnist.pklz\")\n"
   ]
  },
  {
   "cell_type": "code",
   "execution_count": 10,
   "metadata": {},
   "outputs": [
    {
     "name": "stdout",
     "output_type": "stream",
     "text": [
      "50000\n",
      "10000\n",
      "784\n"
     ]
    }
   ],
   "source": [
    "# Number of examples in the training set\n",
    "print(len(data.train_x))\n",
    "\n",
    "# Number of examples in the test set\n",
    "print(len(data.test_x))\n",
    "\n",
    "# Number of pixels in each image.\n",
    "print(data.train_x.shape[-1])"
   ]
  },
  {
   "cell_type": "code",
   "execution_count": 11,
   "metadata": {},
   "outputs": [],
   "source": [
    "class Knearest:\n",
    "    \"\"\"\n",
    "    kNN classifier\n",
    "    \"\"\"\n",
    "\n",
    "    def __init__(self, X, y, k=5):\n",
    "        \"\"\"\n",
    "        Creates a kNN instance\n",
    "\n",
    "        :param x: Training data input\n",
    "        :param y: Training data output\n",
    "        :param k: The number of nearest points to consider in classification\n",
    "        \"\"\"\n",
    "\n",
    "        from sklearn.neighbors import BallTree\n",
    "\n",
    "        self._kdtree = BallTree(X)\n",
    "        self._y = y\n",
    "        self._k = k\n",
    "        self._counts = self.label_counts()\n",
    "\n",
    "    def label_counts(self):\n",
    "        \"\"\"\n",
    "        Given the training labels, return a dictionary d where d[y] is\n",
    "        the number of times that label y appears in the training set.\n",
    "        \"\"\"\n",
    "        dict_label_count = {}\n",
    "        for i in self._y:\n",
    "            if i in dict_label_count:\n",
    "                dict_label_count[i] += 1\n",
    "            else:\n",
    "                dict_label_count[i] = 1\n",
    "\n",
    "        return dict_label_count\n",
    "\n",
    "    def majority(self, neighbor_indices):\n",
    "        \"\"\"\n",
    "        Given the indices of training examples, return the majority label. Break ties\n",
    "        by choosing the tied label that appears most often in the training data.\n",
    "\n",
    "        :param neighbor_indices: The indices of the k nearest neighbors\n",
    "        \"\"\"\n",
    "        assert len(neighbor_indices) == self._k, \"Did not get k neighbor indices\"\n",
    "\n",
    "        dict_label_freq = {}\n",
    "\n",
    "        # Get the label and frequency of each k nearest neighbor\n",
    "\n",
    "        for i in neighbor_indices:\n",
    "            if self._y[i] in dict_label_freq:\n",
    "                dict_label_freq[self._y[i]] = dict_label_freq[self._y[i]] + 1\n",
    "            else:\n",
    "                dict_label_freq[self._y[i]] = 1\n",
    "\n",
    "        # Retrieve the max frequent label\n",
    "        v = list(dict_label_freq.values())\n",
    "        max_freq = max(v)\n",
    "        max_labels = []\n",
    "\n",
    "        for i in dict_label_freq:\n",
    "            if dict_label_freq[i] == max_freq:\n",
    "                max_labels.append(i)\n",
    "\n",
    "        # In case of tie, return the labels which have more count frequency\n",
    "        dict_label_count = {}\n",
    "\n",
    "        if len(max_labels) > 1:\n",
    "            for i in max_labels:\n",
    "                dict_label_count[i] = self._counts[i]\n",
    "\n",
    "            # Retrieve the max count label\n",
    "            v = list(dict_label_count.values())\n",
    "            max_count = max(v)\n",
    "            max_count_label = []\n",
    "\n",
    "            for i in dict_label_count:\n",
    "                if dict_label_count[i] == max_count:\n",
    "                    max_count_label.append(i)\n",
    "\n",
    "            return max_count_label[0]\n",
    "\n",
    "        else:\n",
    "            return max_labels[0]\n",
    "\n",
    "    def classify(self, example):\n",
    "        \"\"\"\n",
    "        Given an example, return the predicted label.\n",
    "\n",
    "        :param example: A representation of an example in the same\n",
    "        format as a row of the training data\n",
    "        \"\"\"\n",
    "        dist, ind = self._kdtree.query([example], self._k)\n",
    "        neighbors = np.asarray(ind).ravel()\n",
    "        return self.majority(neighbors)\n",
    "\n",
    "    def confusion_matrix(self, test_x, test_y):\n",
    "        \"\"\"\n",
    "        Given a matrix of test examples and labels, compute the confusion\n",
    "        matrix for the current classifier.  Should return a 2-dimensional\n",
    "        numpy array of ints, C, where C[ii,jj] is the number of times an\n",
    "        example with true label ii was labeled as jj.\n",
    "\n",
    "        :param test_x: test data\n",
    "        :param test_y: true test labels\n",
    "        \"\"\"\n",
    "        C = np.zeros((10, 10), dtype=int)\n",
    "        for xx, yy in zip(test_x, test_y):\n",
    "            predicted = self.classify(xx)\n",
    "            C[yy, predicted] = C[yy, predicted] + 1\n",
    "\n",
    "        return C\n",
    "\n",
    "    @staticmethod\n",
    "    def accuracy(C):\n",
    "        \"\"\"\n",
    "        Given a confusion matrix C, compute the accuracy of the underlying classifier.\n",
    "\n",
    "        :param C: a confusion matrix\n",
    "        \"\"\"\n",
    "\n",
    "        return np.sum(C.diagonal()) / C.sum()"
   ]
  },
  {
   "cell_type": "code",
   "execution_count": 12,
   "metadata": {},
   "outputs": [
    {
     "name": "stderr",
     "output_type": "stream",
     "text": [
      "....\n",
      "----------------------------------------------------------------------\n",
      "Ran 4 tests in 13.425s\n",
      "\n",
      "OK\n"
     ]
    },
    {
     "data": {
      "text/plain": [
       "<unittest.runner.TextTestResult run=4 errors=0 failures=0>"
      ]
     },
     "execution_count": 12,
     "metadata": {},
     "output_type": "execute_result"
    }
   ],
   "source": [
    "import unittest\n",
    "\n",
    "class TestKnn(unittest.TestCase):\n",
    "    def setUp(self):\n",
    "        self.x = np.array([[2, 0], [4, 1], [6, 0], [1, 4], [2, 4], [2, 5], [4, 4], [0, 2], [3, 2], [4, 2], [5, 2], [5, 5]])\n",
    "        self.y = np.array([+1, +1, +1, +1, +1, +1, +1, -1, -1, -1, -1, -1])\n",
    "        self.knn = {}\n",
    "        for ii in [1, 2, 3]:\n",
    "            self.knn[ii] = Knearest(self.x, self.y, ii)\n",
    "\n",
    "        self.queries = np.array([[1, 5], [0, 3], [6, 4]])\n",
    "        \n",
    "    def test0(self):\n",
    "        \"\"\"\n",
    "        Test the label counter \n",
    "        \"\"\"\n",
    "        self.assertEqual(self.knn[1]._counts[-1], 5)\n",
    "        self.assertEqual(self.knn[1]._counts[1], 7)\n",
    "\n",
    "    def test1(self):\n",
    "        \"\"\"\n",
    "        Test 1NN\n",
    "        \"\"\"\n",
    "        self.assertEqual(self.knn[1].classify(self.queries[0]),  1)\n",
    "        self.assertEqual(self.knn[1].classify(self.queries[1]), -1)\n",
    "        self.assertEqual(self.knn[1].classify(self.queries[2]), -1)\n",
    "\n",
    "    def test2(self):\n",
    "        \"\"\"\n",
    "        Test 2NN\n",
    "        \"\"\"\n",
    "        self.assertEqual(self.knn[2].classify(self.queries[0]),  1)\n",
    "        self.assertEqual(self.knn[2].classify(self.queries[1]),  1)\n",
    "        self.assertEqual(self.knn[2].classify(self.queries[2]),  1)\n",
    "\n",
    "    def test3(self):\n",
    "        \"\"\"\n",
    "        Test 3NN\n",
    "        \"\"\"\n",
    "        self.assertEqual(self.knn[3].classify(self.queries[0]),  1)\n",
    "        self.assertEqual(self.knn[3].classify(self.queries[1]),  1)\n",
    "        self.assertEqual(self.knn[3].classify(self.queries[2]), -1)\n",
    "        \n",
    "tests = TestKnn()\n",
    "tests_to_run = unittest.TestLoader().loadTestsFromModule(tests)\n",
    "unittest.TextTestRunner().run(tests_to_run)"
   ]
  },
  {
   "cell_type": "code",
   "execution_count": 75,
   "metadata": {},
   "outputs": [],
   "source": [
    "training = data.train_x\n",
    "test = data.test_x\n",
    "training_label = data.train_y\n",
    "test_label = data.test_y\n",
    "\n",
    "a = [500, 5000, 10000, 15000, 20000, 25000, 30000, 35000, 40000, 45000, 50000]\n",
    "b = []\n",
    "\n",
    "for i in a:\n",
    "    train_part = training[0:i, 0:784]\n",
    "    label_part = training_label[0:i]\n",
    "    ml_classifier = Knearest(train_part, label_part)\n",
    "    C_matrix = ml_classifier.confusion_matrix(test[0: int(0.2*i) , 0:784], test_label[0: int(0.2*i)])\n",
    "    b.append(ml_classifier.accuracy(C_matrix))\n"
   ]
  },
  {
   "cell_type": "code",
   "execution_count": 76,
   "metadata": {},
   "outputs": [
    {
     "data": {
      "text/plain": [
       "[<matplotlib.lines.Line2D at 0x1e88008fd30>]"
      ]
     },
     "execution_count": 76,
     "metadata": {},
     "output_type": "execute_result"
    },
    {
     "data": {
      "image/png": "[encoded data removed]",
      "text/plain": [
       "<matplotlib.figure.Figure at 0x1e88005c390>"
      ]
     },
     "metadata": {},
     "output_type": "display_data"
    }
   ],
   "source": [
    "import matplotlib.pyplot as plt\n",
    "plt.plot(a,b)"
   ]
  },
  {
   "cell_type": "code",
   "execution_count": 77,
   "metadata": {},
   "outputs": [
    {
     "name": "stdout",
     "output_type": "stream",
     "text": [
      "{1: 0.95499999999999996, 2: 0.93825000000000003, 3: 0.95374999999999999, 4: 0.95025000000000004, 5: 0.95325000000000004, 6: 0.94925000000000004, 7: 0.94999999999999996, 8: 0.94825000000000004, 9: 0.94799999999999995, 10: 0.94499999999999995, 11: 0.94550000000000001, 12: 0.94274999999999998, 13: 0.94350000000000001, 14: 0.94225000000000003, 15: 0.94225000000000003, 16: 0.94099999999999995, 17: 0.94025000000000003, 18: 0.93825000000000003, 19: 0.93799999999999994}\n"
     ]
    }
   ],
   "source": [
    "train_part = training[0:20000, 0:784]\n",
    "label_part = training_label[0:20000]\n",
    "\n",
    "accuracy_k = {}\n",
    "for i in range(1,20):\n",
    "    ml_classifier = Knearest(train_part, label_part, i)\n",
    "    C_matrix = ml_classifier.confusion_matrix(test[0:4000,0:784], test_label[0:4000])\n",
    "    accuracy_k[i] = ml_classifier.accuracy(C_matrix)\n",
    "print(accuracy_k)"
   ]
  },
  {
   "cell_type": "code",
   "execution_count": 78,
   "metadata": {},
   "outputs": [
    {
     "data": {
      "text/plain": [
       "[<matplotlib.lines.Line2D at 0x1e8803e7908>]"
      ]
     },
     "execution_count": 78,
     "metadata": {},
     "output_type": "execute_result"
    },
    {
     "data": {
      "image/png": "[encoded data removed]",
      "text/plain": [
       "<matplotlib.figure.Figure at 0x1e881fcad68>"
      ]
     },
     "metadata": {},
     "output_type": "display_data"
    }
   ],
   "source": [
    "import matplotlib.pyplot as plt\n",
    "a = list(accuracy_k.keys())\n",
    "b = list(accuracy_k.values())\n",
    "plt.plot(a,b)"
   ]
  },
  {
   "cell_type": "code",
   "execution_count": null,
   "metadata": {},
   "outputs": [],
   "source": [
    "def view_digit(example, label=None):\n",
    "    if label: print(\"true label: {:d}\".format(label))\n",
    "    plt.imshow(example.reshape(28,28), cmap='gray');"
   ]
  },
  {
   "cell_type": "code",
   "execution_count": 58,
   "metadata": {},
   "outputs": [
    {
     "name": "stdout",
     "output_type": "stream",
     "text": [
      "true label: 5\n"
     ]
    },
    {
     "data": {
      "image/png": "[encoded data removed]",
      "text/plain": [
       "<matplotlib.figure.Figure at 0x1e8c47e5550>"
      ]
     },
     "metadata": {},
     "output_type": "display_data"
    }
   ],
   "source": [
    "view_digit(data.train_x[0,:], data.train_y[0])"
   ]
  },
  {
   "cell_type": "code",
   "execution_count": 135,
   "metadata": {},
   "outputs": [],
   "source": [
    "train_part = training[0:20000, 0:784]\n",
    "label_part = training_label[0:20000]\n",
    "ml_classifier = Knearest(train_part, label_part, i)\n",
    "Conf_matrix = ml_classifier.confusion_matrix(test[0:1000], test_label)"
   ]
  },
  {
   "cell_type": "code",
   "execution_count": 136,
   "metadata": {},
   "outputs": [
    {
     "name": "stdout",
     "output_type": "stream",
     "text": [
      "[[ 98   1   0   0   0   0   1   0   0   0]\n",
      " [  0 106   0   0   0   0   0   1   0   0]\n",
      " [  0   2  86   1   0   0   0   3   0   1]\n",
      " [  0   0   1  98   0   1   0   0   2   3]\n",
      " [  0   2   0   0  78   0   0   0   0   9]\n",
      " [  0   0   0   1   0  88   0   1   0   1]\n",
      " [  1   0   0   0   0   0 103   0   0   0]\n",
      " [  0   2   0   0   1   0   0 102   0   1]\n",
      " [  0   1   0   4   0   1   0   1  99   1]\n",
      " [  2   0   0   1   1   0   0   3   0  91]]\n"
     ]
    }
   ],
   "source": [
    "print(Conf_matrix)"
   ]
  },
  {
   "cell_type": "code",
   "execution_count": 140,
   "metadata": {},
   "outputs": [
    {
     "name": "stdout",
     "output_type": "stream",
     "text": [
      "[9, 4, 3, 3, 3, 2, 2, 2, 2, 2, 1, 1, 1, 1, 1, 1, 1, 1, 1, 1, 1, 1, 1, 1, 1, 1, 1, 1, 1, 0, 0, 0, 0, 0, 0, 0, 0, 0, 0, 0, 0, 0, 0, 0, 0, 0, 0, 0, 0, 0, 0, 0, 0, 0, 0, 0, 0, 0, 0, 0, 0, 0, 0, 0, 0, 0, 0, 0, 0, 0, 0, 0, 0, 0, 0, 0, 0, 0, 0, 0, 0, 0, 0, 0, 0, 0, 0, 0, 0, 0]\n",
      "9\n",
      "4\n",
      "3\n",
      "3\n",
      "3\n",
      "{8: 3, 9: 7, 2: 7, 3: 9, 4: 9}\n"
     ]
    }
   ],
   "source": [
    "mask = np.ones(C_matrix.shape, dtype=bool)\n",
    "np.fill_diagonal(mask, 0)\n",
    "max_value = sorted(Conf_matrix[mask], reverse = True)\n",
    "print(max_value)\n",
    "confused_val = {}\n",
    "row = []\n",
    "col = []\n",
    "\n",
    "for i in range(0,6):\n",
    "    max_val = max_value[i]\n",
    "    print(max_val)\n",
    "    k = np.where(Conf_matrix == max_val)\n",
    "    if len(row) < 6:\n",
    "        for i in k[0]:\n",
    "            row.append(i)\n",
    "        for j in k[1]:\n",
    "            col.append(j)\n",
    "    else:\n",
    "        break\n",
    "            \n",
    "for i,j in enumerate(row):\n",
    "    if j not in confused_val:\n",
    "        confused_val[j] = col[i]\n",
    "\n",
    "print(confused_val)    \n"
   ]
  },
  {
   "cell_type": "code",
   "execution_count": 141,
   "metadata": {},
   "outputs": [],
   "source": [
    "train_part = training[0:20000, 0:784]\n",
    "label_part = training_label[0:20000]\n",
    "ml_classifier = Knearest(train_part, label_part, i)\n",
    "confused_example = {}\n",
    "for index,xx in enumerate(test[0:500]):\n",
    "    predicted = ml_classifier.classify(xx)\n",
    "    true_label = test_label[index]\n",
    "    if len(confused_example) < len(confused_val):\n",
    "        if true_label in confused_val:\n",
    "            if confused_val[true_label] == predicted:\n",
    "                confused_example[true_label,predicted] = index \n",
    "    else:\n",
    "        break    "
   ]
  },
  {
   "cell_type": "code",
   "execution_count": 142,
   "metadata": {},
   "outputs": [
    {
     "name": "stdout",
     "output_type": "stream",
     "text": [
      "{(2, 7): 229, (3, 9): 431, (4, 9): 5, (9, 7): 462}\n"
     ]
    }
   ],
   "source": [
    "print(confused_example)"
   ]
  },
  {
   "cell_type": "code",
   "execution_count": 143,
   "metadata": {},
   "outputs": [
    {
     "name": "stdout",
     "output_type": "stream",
     "text": [
      "true label: 2\n"
     ]
    },
    {
     "data": {
      "image/png": "[encoded data removed]",
      "text/plain": [
       "<matplotlib.figure.Figure at 0x1e881f052e8>"
      ]
     },
     "metadata": {},
     "output_type": "display_data"
    }
   ],
   "source": [
    "view_digit(data.test_x[229,:], data.test_y[229])"
   ]
  },
  {
   "cell_type": "code",
   "execution_count": 144,
   "metadata": {},
   "outputs": [
    {
     "name": "stdout",
     "output_type": "stream",
     "text": [
      "true label: 3\n"
     ]
    },
    {
     "data": {
      "image/png": "[encoded data removed]",
      "text/plain": [
       "<matplotlib.figure.Figure at 0x1e8801bc710>"
      ]
     },
     "metadata": {},
     "output_type": "display_data"
    }
   ],
   "source": [
    "view_digit(data.test_x[431,:], data.test_y[431])"
   ]
  },
  {
   "cell_type": "code",
   "execution_count": 145,
   "metadata": {},
   "outputs": [
    {
     "name": "stdout",
     "output_type": "stream",
     "text": [
      "true label: 4\n"
     ]
    },
    {
     "data": {
      "image/png": "[encoded data removed]",
      "text/plain": [
       "<matplotlib.figure.Figure at 0x1e8802b1898>"
      ]
     },
     "metadata": {},
     "output_type": "display_data"
    }
   ],
   "source": [
    "view_digit(data.test_x[5,:], data.test_y[5])"
   ]
  },
  {
   "cell_type": "code",
   "execution_count": 146,
   "metadata": {},
   "outputs": [
    {
     "name": "stdout",
     "output_type": "stream",
     "text": [
      "true label: 9\n"
     ]
    },
    {
     "data": {
      "image/png": "[encoded data removed]",
      "text/plain": [
       "<matplotlib.figure.Figure at 0x1e8802074a8>"
      ]
     },
     "metadata": {},
     "output_type": "display_data"
    }
   ],
   "source": [
    "view_digit(data.test_x[462,:], data.test_y[462])"
   ]
  },
  {
   "cell_type": "code",
   "execution_count": null,
   "metadata": {},
   "outputs": [],
   "source": []
  }
 ],
 "metadata": {
  "kernelspec": {
   "display_name": "Python 3",
   "language": "python",
   "name": "python3"
  },
  "language_info": {
   "codemirror_mode": {
    "name": "ipython",
    "version": 3
   },
   "file_extension": ".py",
   "mimetype": "text/x-python",
   "name": "python",
   "nbconvert_exporter": "python",
   "pygments_lexer": "ipython3",
   "version": "3.5.2"
  }
 },
 "nbformat": 4,
 "nbformat_minor": 2
}
